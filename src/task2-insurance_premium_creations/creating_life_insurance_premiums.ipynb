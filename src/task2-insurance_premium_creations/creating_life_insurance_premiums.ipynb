{
 "cells": [
  {
   "cell_type": "code",
   "execution_count": null,
   "id": "763e43da",
   "metadata": {},
   "outputs": [
    {
     "name": "stderr",
     "output_type": "stream",
     "text": [
      "C:\\Users\\chimi\\anaconda3\\lib\\site-packages\\numpy\\_distributor_init.py:30: UserWarning: loaded more than 1 DLL from .libs:\n",
      "C:\\Users\\chimi\\anaconda3\\lib\\site-packages\\numpy\\.libs\\libopenblas.EL2C6PLE4ZYW3ECEVIV3OXXGRN2NRFM2.gfortran-win_amd64.dll\n",
      "C:\\Users\\chimi\\anaconda3\\lib\\site-packages\\numpy\\.libs\\libopenblas64__v0.3.23-246-g3d31191b-gcc_10_3_0.dll\n",
      "  warnings.warn(\"loaded more than 1 DLL from .libs:\"\n",
      "C:\\Users\\chimi\\anaconda3\\lib\\site-packages\\pandas\\core\\computation\\expressions.py:21: UserWarning: Pandas requires version '2.8.4' or newer of 'numexpr' (version '2.8.3' currently installed).\n",
      "  from pandas.core.computation.check import NUMEXPR_INSTALLED\n",
      "C:\\Users\\chimi\\anaconda3\\lib\\site-packages\\pandas\\core\\arrays\\masked.py:60: UserWarning: Pandas requires version '1.3.6' or newer of 'bottleneck' (version '1.3.5' currently installed).\n",
      "  from pandas.core import (\n",
      "<frozen importlib._bootstrap>:228: RuntimeWarning: scipy._lib.messagestream.MessageStream size changed, may indicate binary incompatibility. Expected 56 from C header, got 64 from PyObject\n"
     ]
    }
   ],
   "source": [
    "import numpy as np\n",
    "import pandas as pd\n",
    "\n",
    "\n",
    "from sklearn.model_selection import train_test_split\n",
    "from sklearn.linear_model import LinearRegression\n",
    "from sklearn.metrics import mean_squared_error, r2_score\n"
   ]
  },
  {
   "cell_type": "markdown",
   "id": "0d402812",
   "metadata": {},
   "source": [
    "### Objective:\n",
    "- Objective : Developing a model to assess mortality risk based on individual characteristics and external variables is the primary goal of utilizing this final integrated information in order to compare and calculate insurance prices.\n"
   ]
  },
  {
   "cell_type": "code",
   "execution_count": 9,
   "id": "c547c963",
   "metadata": {},
   "outputs": [],
   "source": [
    "# Read the file \n",
    "df = pd.read_csv('C:/Users/chimi/Desktop/Python Data Science Projects/life_insurance/Untitled Folder/final_merged_df.csv')"
   ]
  },
  {
   "cell_type": "code",
   "execution_count": 10,
   "id": "08fb9c59",
   "metadata": {},
   "outputs": [
    {
     "name": "stdout",
     "output_type": "stream",
     "text": [
      "Number of rows and columns: 76102, 22\n"
     ]
    }
   ],
   "source": [
    "# Check the shape of the file\n",
    "print(f'Number of rows and columns: {df.shape[0]}, {df.shape[1]}')"
   ]
  },
  {
   "cell_type": "code",
   "execution_count": 11,
   "id": "f15cc2b4",
   "metadata": {},
   "outputs": [
    {
     "data": {
      "text/html": [
       "<div>\n",
       "<style scoped>\n",
       "    .dataframe tbody tr th:only-of-type {\n",
       "        vertical-align: middle;\n",
       "    }\n",
       "\n",
       "    .dataframe tbody tr th {\n",
       "        vertical-align: top;\n",
       "    }\n",
       "\n",
       "    .dataframe thead th {\n",
       "        text-align: right;\n",
       "    }\n",
       "</style>\n",
       "<table border=\"1\" class=\"dataframe\">\n",
       "  <thead>\n",
       "    <tr style=\"text-align: right;\">\n",
       "      <th></th>\n",
       "      <th>ID</th>\n",
       "      <th>Gender</th>\n",
       "      <th>Birth_Date</th>\n",
       "      <th>Effective_Date</th>\n",
       "      <th>Capital</th>\n",
       "      <th>Renewal_Date</th>\n",
       "      <th>Age</th>\n",
       "      <th>t</th>\n",
       "      <th>Age_Actuarial</th>\n",
       "      <th>Birthday</th>\n",
       "      <th>...</th>\n",
       "      <th>s</th>\n",
       "      <th>Age_actuarial_quarter</th>\n",
       "      <th>Month</th>\n",
       "      <th>Year</th>\n",
       "      <th>Air Pollution Mortality_byGender</th>\n",
       "      <th>Poisoning Mortality_byGender</th>\n",
       "      <th>Adult Mortality_byGender</th>\n",
       "      <th>Infant Mortality_byGender</th>\n",
       "      <th>Under 5 Mortality_byGender</th>\n",
       "      <th>Suicide Mortality_byGender</th>\n",
       "    </tr>\n",
       "  </thead>\n",
       "  <tbody>\n",
       "    <tr>\n",
       "      <th>0</th>\n",
       "      <td>1</td>\n",
       "      <td>M</td>\n",
       "      <td>1960-07-10</td>\n",
       "      <td>2000-03-08</td>\n",
       "      <td>55000.0</td>\n",
       "      <td>2009-03-08</td>\n",
       "      <td>48.659822</td>\n",
       "      <td>0.659822</td>\n",
       "      <td>49</td>\n",
       "      <td>2009-07-10</td>\n",
       "      <td>...</td>\n",
       "      <td>1</td>\n",
       "      <td>48.75</td>\n",
       "      <td>3</td>\n",
       "      <td>2000</td>\n",
       "      <td>NaN</td>\n",
       "      <td>0.6</td>\n",
       "      <td>118.721</td>\n",
       "      <td>4.7</td>\n",
       "      <td>5.9</td>\n",
       "      <td>13.2</td>\n",
       "    </tr>\n",
       "    <tr>\n",
       "      <th>1</th>\n",
       "      <td>2</td>\n",
       "      <td>M</td>\n",
       "      <td>1961-08-18</td>\n",
       "      <td>2000-03-07</td>\n",
       "      <td>105000.0</td>\n",
       "      <td>2009-03-07</td>\n",
       "      <td>47.550992</td>\n",
       "      <td>0.550992</td>\n",
       "      <td>48</td>\n",
       "      <td>2009-08-18</td>\n",
       "      <td>...</td>\n",
       "      <td>1</td>\n",
       "      <td>47.50</td>\n",
       "      <td>3</td>\n",
       "      <td>2000</td>\n",
       "      <td>NaN</td>\n",
       "      <td>0.6</td>\n",
       "      <td>118.721</td>\n",
       "      <td>4.7</td>\n",
       "      <td>5.9</td>\n",
       "      <td>13.2</td>\n",
       "    </tr>\n",
       "    <tr>\n",
       "      <th>2</th>\n",
       "      <td>3</td>\n",
       "      <td>M</td>\n",
       "      <td>1963-10-14</td>\n",
       "      <td>2000-03-15</td>\n",
       "      <td>79500.0</td>\n",
       "      <td>2009-03-15</td>\n",
       "      <td>45.418207</td>\n",
       "      <td>0.418207</td>\n",
       "      <td>45</td>\n",
       "      <td>2009-10-14</td>\n",
       "      <td>...</td>\n",
       "      <td>1</td>\n",
       "      <td>45.50</td>\n",
       "      <td>3</td>\n",
       "      <td>2000</td>\n",
       "      <td>NaN</td>\n",
       "      <td>0.6</td>\n",
       "      <td>118.721</td>\n",
       "      <td>4.7</td>\n",
       "      <td>5.9</td>\n",
       "      <td>13.2</td>\n",
       "    </tr>\n",
       "    <tr>\n",
       "      <th>3</th>\n",
       "      <td>4</td>\n",
       "      <td>F</td>\n",
       "      <td>1966-06-26</td>\n",
       "      <td>2000-03-15</td>\n",
       "      <td>74500.0</td>\n",
       "      <td>2009-03-15</td>\n",
       "      <td>42.718686</td>\n",
       "      <td>0.718686</td>\n",
       "      <td>43</td>\n",
       "      <td>2009-06-26</td>\n",
       "      <td>...</td>\n",
       "      <td>1</td>\n",
       "      <td>42.75</td>\n",
       "      <td>3</td>\n",
       "      <td>2000</td>\n",
       "      <td>NaN</td>\n",
       "      <td>0.3</td>\n",
       "      <td>47.685</td>\n",
       "      <td>4.0</td>\n",
       "      <td>4.9</td>\n",
       "      <td>4.2</td>\n",
       "    </tr>\n",
       "    <tr>\n",
       "      <th>4</th>\n",
       "      <td>5</td>\n",
       "      <td>M</td>\n",
       "      <td>1942-09-30</td>\n",
       "      <td>2000-03-07</td>\n",
       "      <td>140000.0</td>\n",
       "      <td>2009-03-07</td>\n",
       "      <td>66.433949</td>\n",
       "      <td>0.433949</td>\n",
       "      <td>66</td>\n",
       "      <td>2009-09-30</td>\n",
       "      <td>...</td>\n",
       "      <td>1</td>\n",
       "      <td>66.50</td>\n",
       "      <td>3</td>\n",
       "      <td>2000</td>\n",
       "      <td>NaN</td>\n",
       "      <td>0.6</td>\n",
       "      <td>118.721</td>\n",
       "      <td>4.7</td>\n",
       "      <td>5.9</td>\n",
       "      <td>13.2</td>\n",
       "    </tr>\n",
       "  </tbody>\n",
       "</table>\n",
       "<p>5 rows × 22 columns</p>\n",
       "</div>"
      ],
      "text/plain": [
       "   ID Gender  Birth_Date Effective_Date   Capital Renewal_Date        Age  \\\n",
       "0   1      M  1960-07-10     2000-03-08   55000.0   2009-03-08  48.659822   \n",
       "1   2      M  1961-08-18     2000-03-07  105000.0   2009-03-07  47.550992   \n",
       "2   3      M  1963-10-14     2000-03-15   79500.0   2009-03-15  45.418207   \n",
       "3   4      F  1966-06-26     2000-03-15   74500.0   2009-03-15  42.718686   \n",
       "4   5      M  1942-09-30     2000-03-07  140000.0   2009-03-07  66.433949   \n",
       "\n",
       "          t  Age_Actuarial    Birthday  ...  s  Age_actuarial_quarter  Month  \\\n",
       "0  0.659822             49  2009-07-10  ...  1                  48.75      3   \n",
       "1  0.550992             48  2009-08-18  ...  1                  47.50      3   \n",
       "2  0.418207             45  2009-10-14  ...  1                  45.50      3   \n",
       "3  0.718686             43  2009-06-26  ...  1                  42.75      3   \n",
       "4  0.433949             66  2009-09-30  ...  1                  66.50      3   \n",
       "\n",
       "   Year  Air Pollution Mortality_byGender  Poisoning Mortality_byGender  \\\n",
       "0  2000                               NaN                           0.6   \n",
       "1  2000                               NaN                           0.6   \n",
       "2  2000                               NaN                           0.6   \n",
       "3  2000                               NaN                           0.3   \n",
       "4  2000                               NaN                           0.6   \n",
       "\n",
       "   Adult Mortality_byGender  Infant Mortality_byGender  \\\n",
       "0                   118.721                        4.7   \n",
       "1                   118.721                        4.7   \n",
       "2                   118.721                        4.7   \n",
       "3                    47.685                        4.0   \n",
       "4                   118.721                        4.7   \n",
       "\n",
       "   Under 5 Mortality_byGender  Suicide Mortality_byGender  \n",
       "0                         5.9                        13.2  \n",
       "1                         5.9                        13.2  \n",
       "2                         5.9                        13.2  \n",
       "3                         4.9                         4.2  \n",
       "4                         5.9                        13.2  \n",
       "\n",
       "[5 rows x 22 columns]"
      ]
     },
     "execution_count": 11,
     "metadata": {},
     "output_type": "execute_result"
    }
   ],
   "source": [
    "df.head(5)"
   ]
  },
  {
   "cell_type": "code",
   "execution_count": 12,
   "id": "a2837f16",
   "metadata": {},
   "outputs": [
    {
     "data": {
      "text/plain": [
       "Index(['ID', 'Gender', 'Birth_Date', 'Effective_Date', 'Capital',\n",
       "       'Renewal_Date', 'Age', 't', 'Age_Actuarial', 'Birthday', 'x', 'r', 's',\n",
       "       'Age_actuarial_quarter', 'Month', 'Year',\n",
       "       'Air Pollution Mortality_byGender', 'Poisoning Mortality_byGender',\n",
       "       'Adult Mortality_byGender', 'Infant Mortality_byGender',\n",
       "       'Under 5 Mortality_byGender', 'Suicide Mortality_byGender'],\n",
       "      dtype='object')"
      ]
     },
     "execution_count": 12,
     "metadata": {},
     "output_type": "execute_result"
    }
   ],
   "source": [
    "df.columns"
   ]
  },
  {
   "cell_type": "code",
   "execution_count": 13,
   "id": "dad821ac",
   "metadata": {},
   "outputs": [
    {
     "data": {
      "text/plain": [
       "0"
      ]
     },
     "execution_count": 13,
     "metadata": {},
     "output_type": "execute_result"
    }
   ],
   "source": [
    "# Check for duplicates\n",
    "df.duplicated().sum()"
   ]
  },
  {
   "cell_type": "code",
   "execution_count": 14,
   "id": "2ee52e4b",
   "metadata": {},
   "outputs": [
    {
     "data": {
      "text/plain": [
       "ID                                      0\n",
       "Gender                                  0\n",
       "Birth_Date                              0\n",
       "Effective_Date                          0\n",
       "Capital                                 0\n",
       "Renewal_Date                            0\n",
       "Age                                     0\n",
       "t                                       0\n",
       "Age_Actuarial                           0\n",
       "Birthday                                0\n",
       "x                                       0\n",
       "r                                       0\n",
       "s                                       0\n",
       "Age_actuarial_quarter                   0\n",
       "Month                                   0\n",
       "Year                                    0\n",
       "Air Pollution Mortality_byGender    76102\n",
       "Poisoning Mortality_byGender            0\n",
       "Adult Mortality_byGender                0\n",
       "Infant Mortality_byGender               0\n",
       "Under 5 Mortality_byGender              0\n",
       "Suicide Mortality_byGender              0\n",
       "dtype: int64"
      ]
     },
     "execution_count": 14,
     "metadata": {},
     "output_type": "execute_result"
    }
   ],
   "source": [
    "# Check for missing values\n",
    "df.isnull().sum()"
   ]
  },
  {
   "cell_type": "code",
   "execution_count": 15,
   "id": "5c585a58",
   "metadata": {},
   "outputs": [],
   "source": [
    "# Drop the 'Air Pollution Mortality_byGender' \n",
    "df.drop('Air Pollution Mortality_byGender', axis=1, inplace=True)"
   ]
  },
  {
   "cell_type": "markdown",
   "id": "6f5a4b64",
   "metadata": {},
   "source": [
    "#### Feature Selection:"
   ]
  },
  {
   "cell_type": "code",
   "execution_count": 16,
   "id": "ba855f52",
   "metadata": {},
   "outputs": [],
   "source": [
    "# Drop data variables and the specified Air Pollution Mortality by Gender\n",
    "df = df.drop(columns=['Birth_Date', 'Effective_Date', 'Renewal_Date','ID'])\n"
   ]
  },
  {
   "cell_type": "code",
   "execution_count": 17,
   "id": "c0fb6fb2",
   "metadata": {},
   "outputs": [],
   "source": [
    "# Exclude direct mortality measures to avoid data leakage (we want to predict mortality without using other mortality rates)\n",
    "predictors_to_exclude = ['Infant Mortality_byGender', 'Under 5 Mortality_byGender', 'Suicide Mortality_byGender', 'Poisoning Mortality_byGender']\n"
   ]
  },
  {
   "cell_type": "code",
   "execution_count": 18,
   "id": "5eaef7f1",
   "metadata": {},
   "outputs": [],
   "source": [
    "# Save the new changes to the dataframe\n",
    "df = df.drop(columns=predictors_to_exclude)"
   ]
  },
  {
   "cell_type": "code",
   "execution_count": 19,
   "id": "58532db3",
   "metadata": {},
   "outputs": [
    {
     "data": {
      "text/plain": [
       "['Gender',\n",
       " 'Capital',\n",
       " 'Age',\n",
       " 't',\n",
       " 'Age_Actuarial',\n",
       " 'Birthday',\n",
       " 'x',\n",
       " 'r',\n",
       " 's',\n",
       " 'Age_actuarial_quarter',\n",
       " 'Month',\n",
       " 'Year',\n",
       " 'Adult Mortality_byGender']"
      ]
     },
     "execution_count": 19,
     "metadata": {},
     "output_type": "execute_result"
    }
   ],
   "source": [
    "# Check remaining columns for feature selection\n",
    "remaining_cols = df.columns.tolist()\n",
    "remaining_cols"
   ]
  },
  {
   "cell_type": "code",
   "execution_count": 20,
   "id": "4ad416f6",
   "metadata": {},
   "outputs": [
    {
     "name": "stdout",
     "output_type": "stream",
     "text": [
      "                    Age  Age_Actuarial\n",
      "Age            1.000000       0.999646\n",
      "Age_Actuarial  0.999646       1.000000\n"
     ]
    }
   ],
   "source": [
    "# # Check for multicollinearity between 'Age' and 'Age_Actuarial'\n",
    "# Since, correlation between 'Age' and Age _Actuarial is extremely high 0.99, indicating multicolinearity if included\n",
    "# Due to the high correlation and to avoid multicollinearity, we will just use the one of the variable for our predictive model\n",
    "correlation = df[['Age', 'Age_Actuarial']].corr()\n",
    "\n",
    "print(correlation)\n"
   ]
  },
  {
   "cell_type": "markdown",
   "id": "820591d5",
   "metadata": {},
   "source": [
    "#### Observation:\n",
    "- For life insurance, the 'Age_Actuarial' might be more suitable since it rounded to whole years,a common practice among actuarial calculations for pricing"
   ]
  },
  {
   "cell_type": "code",
   "execution_count": 21,
   "id": "c55ad7bd",
   "metadata": {},
   "outputs": [],
   "source": [
    "# Drop the Age_Actuarial column\n",
    "df.drop(columns=['Age'], axis=1, inplace=True)"
   ]
  },
  {
   "cell_type": "markdown",
   "id": "132be978",
   "metadata": {},
   "source": [
    "#### Encoding Gender variable"
   ]
  },
  {
   "cell_type": "code",
   "execution_count": 96,
   "id": "efa04683",
   "metadata": {},
   "outputs": [],
   "source": [
    "# Encode the Gender\n",
    "df['Gender'] = df['Gender'].map({'M':1, 'F': 0})"
   ]
  },
  {
   "cell_type": "code",
   "execution_count": 97,
   "id": "cf2f967f",
   "metadata": {},
   "outputs": [
    {
     "data": {
      "text/html": [
       "<div>\n",
       "<style scoped>\n",
       "    .dataframe tbody tr th:only-of-type {\n",
       "        vertical-align: middle;\n",
       "    }\n",
       "\n",
       "    .dataframe tbody tr th {\n",
       "        vertical-align: top;\n",
       "    }\n",
       "\n",
       "    .dataframe thead th {\n",
       "        text-align: right;\n",
       "    }\n",
       "</style>\n",
       "<table border=\"1\" class=\"dataframe\">\n",
       "  <thead>\n",
       "    <tr style=\"text-align: right;\">\n",
       "      <th></th>\n",
       "      <th>Gender</th>\n",
       "      <th>Capital</th>\n",
       "      <th>t</th>\n",
       "      <th>Age_Actuarial</th>\n",
       "      <th>Birthday</th>\n",
       "      <th>x</th>\n",
       "      <th>r</th>\n",
       "      <th>s</th>\n",
       "      <th>Age_actuarial_quarter</th>\n",
       "      <th>Month</th>\n",
       "      <th>Year</th>\n",
       "      <th>Adult Mortality_byGender</th>\n",
       "    </tr>\n",
       "  </thead>\n",
       "  <tbody>\n",
       "    <tr>\n",
       "      <th>0</th>\n",
       "      <td>1</td>\n",
       "      <td>55000.0</td>\n",
       "      <td>0.659822</td>\n",
       "      <td>49</td>\n",
       "      <td>2009-07-10</td>\n",
       "      <td>0.180822</td>\n",
       "      <td>4</td>\n",
       "      <td>1</td>\n",
       "      <td>48.75</td>\n",
       "      <td>3</td>\n",
       "      <td>2000</td>\n",
       "      <td>118.721</td>\n",
       "    </tr>\n",
       "    <tr>\n",
       "      <th>1</th>\n",
       "      <td>1</td>\n",
       "      <td>105000.0</td>\n",
       "      <td>0.550992</td>\n",
       "      <td>48</td>\n",
       "      <td>2009-08-18</td>\n",
       "      <td>0.178082</td>\n",
       "      <td>3</td>\n",
       "      <td>1</td>\n",
       "      <td>47.50</td>\n",
       "      <td>3</td>\n",
       "      <td>2000</td>\n",
       "      <td>118.721</td>\n",
       "    </tr>\n",
       "    <tr>\n",
       "      <th>2</th>\n",
       "      <td>1</td>\n",
       "      <td>79500.0</td>\n",
       "      <td>0.418207</td>\n",
       "      <td>45</td>\n",
       "      <td>2009-10-14</td>\n",
       "      <td>0.200000</td>\n",
       "      <td>3</td>\n",
       "      <td>1</td>\n",
       "      <td>45.50</td>\n",
       "      <td>3</td>\n",
       "      <td>2000</td>\n",
       "      <td>118.721</td>\n",
       "    </tr>\n",
       "    <tr>\n",
       "      <th>3</th>\n",
       "      <td>0</td>\n",
       "      <td>74500.0</td>\n",
       "      <td>0.718686</td>\n",
       "      <td>43</td>\n",
       "      <td>2009-06-26</td>\n",
       "      <td>0.200000</td>\n",
       "      <td>4</td>\n",
       "      <td>1</td>\n",
       "      <td>42.75</td>\n",
       "      <td>3</td>\n",
       "      <td>2000</td>\n",
       "      <td>47.685</td>\n",
       "    </tr>\n",
       "    <tr>\n",
       "      <th>4</th>\n",
       "      <td>1</td>\n",
       "      <td>140000.0</td>\n",
       "      <td>0.433949</td>\n",
       "      <td>66</td>\n",
       "      <td>2009-09-30</td>\n",
       "      <td>0.178082</td>\n",
       "      <td>3</td>\n",
       "      <td>1</td>\n",
       "      <td>66.50</td>\n",
       "      <td>3</td>\n",
       "      <td>2000</td>\n",
       "      <td>118.721</td>\n",
       "    </tr>\n",
       "  </tbody>\n",
       "</table>\n",
       "</div>"
      ],
      "text/plain": [
       "   Gender   Capital         t  Age_Actuarial    Birthday         x  r  s  \\\n",
       "0       1   55000.0  0.659822             49  2009-07-10  0.180822  4  1   \n",
       "1       1  105000.0  0.550992             48  2009-08-18  0.178082  3  1   \n",
       "2       1   79500.0  0.418207             45  2009-10-14  0.200000  3  1   \n",
       "3       0   74500.0  0.718686             43  2009-06-26  0.200000  4  1   \n",
       "4       1  140000.0  0.433949             66  2009-09-30  0.178082  3  1   \n",
       "\n",
       "   Age_actuarial_quarter  Month  Year  Adult Mortality_byGender  \n",
       "0                  48.75      3  2000                   118.721  \n",
       "1                  47.50      3  2000                   118.721  \n",
       "2                  45.50      3  2000                   118.721  \n",
       "3                  42.75      3  2000                    47.685  \n",
       "4                  66.50      3  2000                   118.721  "
      ]
     },
     "execution_count": 97,
     "metadata": {},
     "output_type": "execute_result"
    }
   ],
   "source": [
    "# Check the first fews rows to confirm encoding \n",
    "df.head(5)"
   ]
  },
  {
   "cell_type": "code",
   "execution_count": 98,
   "id": "c5692f3c",
   "metadata": {},
   "outputs": [
    {
     "data": {
      "text/plain": [
       "Gender\n",
       "1    47652\n",
       "0    28450\n",
       "Name: count, dtype: int64"
      ]
     },
     "execution_count": 98,
     "metadata": {},
     "output_type": "execute_result"
    }
   ],
   "source": [
    "df['Gender'].value_counts()"
   ]
  },
  {
   "cell_type": "markdown",
   "id": "0c189917",
   "metadata": {},
   "source": [
    "### Feature Selection Part 2:"
   ]
  },
  {
   "cell_type": "code",
   "execution_count": 101,
   "id": "1f6defc3",
   "metadata": {},
   "outputs": [],
   "source": [
    "# \n",
    "df.drop(columns=['Birthday','Year'],  inplace=True)"
   ]
  },
  {
   "cell_type": "markdown",
   "id": "e251f94d",
   "metadata": {},
   "source": [
    "#### Drop 't', 'x', 'r', 's' as we have no way to say it shared a significant relationship with the target variable\n",
    "- Focusing on variables that have the most direct relationship to mortaabslity"
   ]
  },
  {
   "cell_type": "markdown",
   "id": "b582b283",
   "metadata": {},
   "source": [
    "#### Build a baseline modeling using Linear Regression\n",
    "- There are several benefits using Linear Regression to assess mortality risk based on individual characteristics and external variables.Using Linear Regression to forecast mortality allows us to adjust cpaital to make premium comuptations more precise and ensures it closely matches premium to individual risk profiles. Also, it allows insurance companies to allocate capital accurately, improving overall risk management. Additionally, it help us create life insurance polcies that can meet the demand of individual clients, boosting the policyholders satisfaction and giving a business more competetive edge.\n",
    "- After creating a baseline model using Linear Regression, we will use those mortality predictions to categorize the different types of premium that can be offered to policyholders."
   ]
  },
  {
   "cell_type": "code",
   "execution_count": 110,
   "id": "3b243e2d",
   "metadata": {},
   "outputs": [
    {
     "name": "stdout",
     "output_type": "stream",
     "text": [
      "Mean Squared Error (MSE): 37.200864722148616\n",
      "Root Mean Squared Error (RMSE): 6.099251160769543\n",
      "R-squared: 0.9562793476111063\n"
     ]
    }
   ],
   "source": [
    "\n",
    "\n",
    "# Prepare the dataset for Linear Regression with the selected predictors \n",
    "selected_predictors = ['Gender', 'Capital', 'Age_Actuarial']\n",
    "X = df[selected_predictors]\n",
    "y = df['Adult Mortality_byGender']\n",
    "\n",
    "# Split the data into training and testing sets\n",
    "X_train, X_test, y_train, y_test = train_test_split(X, y, test_size=0.2, random_state=42)\n",
    "\n",
    "# Initialize and train the Linear Regression model on the selected predictors\n",
    "model = LinearRegression()\n",
    "model.fit(X_train, y_train)\n",
    "\n",
    "# Predict the test set and evaluate performance metrics\n",
    "y_pred = model.predict(X_test)\n",
    "mse = mean_squared_error(y_test, y_pred)\n",
    "rmse = mse ** 0.5\n",
    "r_square = r2_score(y_test, y_pred)\n",
    "\n",
    "# Print the performance metrics\n",
    "print(\"Mean Squared Error (MSE):\", mse)\n",
    "print(\"Root Mean Squared Error (RMSE):\", rmse)\n",
    "print(\"R-squared:\", r_square)"
   ]
  },
  {
   "cell_type": "code",
   "execution_count": 111,
   "id": "1cfee666",
   "metadata": {},
   "outputs": [
    {
     "data": {
      "text/plain": [
       "count    76102.000000\n",
       "mean        81.097226\n",
       "std         28.578519\n",
       "min         40.574599\n",
       "25%         44.460453\n",
       "50%        102.588755\n",
       "75%        103.399630\n",
       "max        105.548738\n",
       "dtype: float64"
      ]
     },
     "execution_count": 111,
     "metadata": {},
     "output_type": "execute_result"
    }
   ],
   "source": [
    "# Use the predicted values to perform risk segementation\n",
    "y_all_pred = model.predict(X)\n",
    "\n",
    "pd.Series(y_all_pred).describe()"
   ]
  },
  {
   "cell_type": "markdown",
   "id": "cb797ea1",
   "metadata": {},
   "source": [
    "### Observation: \n",
    "- The minimum is 40.60, 25th Percentile is 44.46, Median is (50th Percentile): 102. 59, 75th Percentile:103.40, and Maximum 105.55"
   ]
  },
  {
   "cell_type": "code",
   "execution_count": 114,
   "id": "eecb6bb4",
   "metadata": {},
   "outputs": [
    {
     "data": {
      "text/plain": [
       "Low Risk       38084\n",
       "Medium Risk    19042\n",
       "High Risk      18976\n",
       "Name: count, dtype: int64"
      ]
     },
     "execution_count": 114,
     "metadata": {},
     "output_type": "execute_result"
    }
   ],
   "source": [
    "# Categorize individuals into risk segments based on the defined thresholds\n",
    "def categorize_risk(rate):\n",
    "    if rate <= 102.59:  # 50th percentile\n",
    "        return 'Low Risk'\n",
    "    elif rate <= 103.40:  # 75th percentile\n",
    "        return 'Medium Risk'\n",
    "    else:\n",
    "        return 'High Risk'\n",
    "\n",
    "risk_categories = pd.Series(y_all_pred).apply(categorize_risk)\n",
    "\n",
    "# Count the number of individuals in each risk segment\n",
    "risk_segment_counts = risk_categories.value_counts()\n",
    "\n",
    "risk_segment_counts"
   ]
  },
  {
   "cell_type": "code",
   "execution_count": 115,
   "id": "626f6a66",
   "metadata": {},
   "outputs": [
    {
     "data": {
      "text/plain": [
       "(130000.0, 195000.0, 260000.0)"
      ]
     },
     "execution_count": 115,
     "metadata": {},
     "output_type": "execute_result"
    }
   ],
   "source": [
    "\n",
    "expected_claim_amount = 1000\n",
    "claim_frequency_low = 0.01  # 1%\n",
    "expenses_rate = 0.20  # 20%\n",
    "profit_margin = 0.10  # 10%\n",
    "\n",
    "# Calculate Base Premium for Low Risk\n",
    "base_premium_low = (expected_claim_amount / claim_frequency_low) * (1 + expenses_rate + profit_margin)\n",
    "\n",
    "# Adjust for Medium and High Risk\n",
    "multiplier_medium = 1.5  # 50% higher risk than low\n",
    "multiplier_high = 2.0  # 100% higher risk than low\n",
    "\n",
    "premium_medium = base_premium_low * multiplier_medium\n",
    "premium_high = base_premium_low * multiplier_high\n",
    "\n",
    "base_premium_low, premium_medium, premium_high"
   ]
  },
  {
   "cell_type": "code",
   "execution_count": 116,
   "id": "9597bb88",
   "metadata": {},
   "outputs": [
    {
     "data": {
      "text/html": [
       "<div>\n",
       "<style scoped>\n",
       "    .dataframe tbody tr th:only-of-type {\n",
       "        vertical-align: middle;\n",
       "    }\n",
       "\n",
       "    .dataframe tbody tr th {\n",
       "        vertical-align: top;\n",
       "    }\n",
       "\n",
       "    .dataframe thead th {\n",
       "        text-align: right;\n",
       "    }\n",
       "</style>\n",
       "<table border=\"1\" class=\"dataframe\">\n",
       "  <thead>\n",
       "    <tr style=\"text-align: right;\">\n",
       "      <th></th>\n",
       "      <th>Gender</th>\n",
       "      <th>Capital</th>\n",
       "      <th>Age_Actuarial</th>\n",
       "    </tr>\n",
       "  </thead>\n",
       "  <tbody>\n",
       "    <tr>\n",
       "      <th>0</th>\n",
       "      <td>1</td>\n",
       "      <td>55000.0</td>\n",
       "      <td>49</td>\n",
       "    </tr>\n",
       "    <tr>\n",
       "      <th>1</th>\n",
       "      <td>1</td>\n",
       "      <td>105000.0</td>\n",
       "      <td>48</td>\n",
       "    </tr>\n",
       "    <tr>\n",
       "      <th>2</th>\n",
       "      <td>1</td>\n",
       "      <td>79500.0</td>\n",
       "      <td>45</td>\n",
       "    </tr>\n",
       "    <tr>\n",
       "      <th>3</th>\n",
       "      <td>0</td>\n",
       "      <td>74500.0</td>\n",
       "      <td>43</td>\n",
       "    </tr>\n",
       "    <tr>\n",
       "      <th>4</th>\n",
       "      <td>1</td>\n",
       "      <td>140000.0</td>\n",
       "      <td>66</td>\n",
       "    </tr>\n",
       "    <tr>\n",
       "      <th>...</th>\n",
       "      <td>...</td>\n",
       "      <td>...</td>\n",
       "      <td>...</td>\n",
       "    </tr>\n",
       "    <tr>\n",
       "      <th>76097</th>\n",
       "      <td>0</td>\n",
       "      <td>95000.0</td>\n",
       "      <td>45</td>\n",
       "    </tr>\n",
       "    <tr>\n",
       "      <th>76098</th>\n",
       "      <td>0</td>\n",
       "      <td>45000.0</td>\n",
       "      <td>44</td>\n",
       "    </tr>\n",
       "    <tr>\n",
       "      <th>76099</th>\n",
       "      <td>0</td>\n",
       "      <td>103000.0</td>\n",
       "      <td>40</td>\n",
       "    </tr>\n",
       "    <tr>\n",
       "      <th>76100</th>\n",
       "      <td>0</td>\n",
       "      <td>82000.0</td>\n",
       "      <td>43</td>\n",
       "    </tr>\n",
       "    <tr>\n",
       "      <th>76101</th>\n",
       "      <td>0</td>\n",
       "      <td>217000.0</td>\n",
       "      <td>51</td>\n",
       "    </tr>\n",
       "  </tbody>\n",
       "</table>\n",
       "<p>76102 rows × 3 columns</p>\n",
       "</div>"
      ],
      "text/plain": [
       "       Gender   Capital  Age_Actuarial\n",
       "0           1   55000.0             49\n",
       "1           1  105000.0             48\n",
       "2           1   79500.0             45\n",
       "3           0   74500.0             43\n",
       "4           1  140000.0             66\n",
       "...       ...       ...            ...\n",
       "76097       0   95000.0             45\n",
       "76098       0   45000.0             44\n",
       "76099       0  103000.0             40\n",
       "76100       0   82000.0             43\n",
       "76101       0  217000.0             51\n",
       "\n",
       "[76102 rows x 3 columns]"
      ]
     },
     "execution_count": 116,
     "metadata": {},
     "output_type": "execute_result"
    }
   ],
   "source": [
    "X"
   ]
  }
 ],
 "metadata": {
  "kernelspec": {
   "display_name": "Python 3 (ipykernel)",
   "language": "python",
   "name": "python3"
  },
  "language_info": {
   "codemirror_mode": {
    "name": "ipython",
    "version": 3
   },
   "file_extension": ".py",
   "mimetype": "text/x-python",
   "name": "python",
   "nbconvert_exporter": "python",
   "pygments_lexer": "ipython3",
   "version": "3.9.13"
  }
 },
 "nbformat": 4,
 "nbformat_minor": 5
}
